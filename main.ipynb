{
 "cells": [
  {
   "cell_type": "markdown",
   "id": "5dc263be",
   "metadata": {},
   "source": [
    "\n",
    "# Sentiment Analysis Using Logistic Regression\n",
    "\n",
    "This project performs sentiment analysis on the Sentiment140 dataset. The goal is to classify tweets as either positive or negative based on their content.\n",
    "\n",
    "## Workflow Overview:\n",
    "1. **Data Extraction**: Downloading and loading the dataset using the Kaggle API.\n",
    "2. **Preprocessing**: Cleaning and preparing the text data.\n",
    "3. **Feature Extraction**: Using TF-IDF to transform text into numerical features.\n",
    "4. **Model Training**: Training a Logistic Regression model for sentiment classification.\n",
    "5. **Evaluation**: Evaluating the model using accuracy, confusion matrix.\n",
    "\n",
    "---\n"
   ]
  },
  {
   "cell_type": "markdown",
   "id": "80b49cf6",
   "metadata": {},
   "source": [
    "## Data Extraction\n",
    "\n",
    "Download the dataset from Kaggle using the Kaggle API. Ensure you have the `kaggle.json` file configured in your system."
   ]
  },
  {
   "cell_type": "code",
   "execution_count": null,
   "metadata": {
    "colab": {
     "base_uri": "https://localhost:8080/"
    },
    "executionInfo": {
     "elapsed": 3271,
     "status": "ok",
     "timestamp": 1733823312433,
     "user": {
      "displayName": "Mohamed Ibrahim",
      "userId": "02825022487710848818"
     },
     "user_tz": -120
    },
    "id": "nRAUCy0xxfFg",
    "outputId": "3975c167-b5a4-411f-ae7a-96d912769d42"
   },
   "outputs": [],
   "source": [
    "! pip install kaggle"
   ]
  },
  {
   "cell_type": "code",
   "execution_count": null,
   "metadata": {
    "colab": {
     "base_uri": "https://localhost:8080/"
    },
    "executionInfo": {
     "elapsed": 259,
     "status": "ok",
     "timestamp": 1733823312687,
     "user": {
      "displayName": "Mohamed Ibrahim",
      "userId": "02825022487710848818"
     },
     "user_tz": -120
    },
    "id": "60IUoQ8dxprg",
    "outputId": "1399e25b-33e2-469d-df85-798bd4f3d08a"
   },
   "outputs": [],
   "source": [
    "! mkdir -p ~/.kaggle\n",
    "! cp kaggle.json ~/.kaggle/\n",
    "! chmod 600 ~/.kaggle/kaggle.json"
   ]
  },
  {
   "cell_type": "code",
   "execution_count": null,
   "metadata": {
    "colab": {
     "base_uri": "https://localhost:8080/"
    },
    "executionInfo": {
     "elapsed": 1282,
     "status": "ok",
     "timestamp": 1733823313968,
     "user": {
      "displayName": "Mohamed Ibrahim",
      "userId": "02825022487710848818"
     },
     "user_tz": -120
    },
    "id": "HyzQiiDT2E9d",
    "outputId": "9b9fce60-a997-42b1-f68e-55cef11d69b8"
   },
   "outputs": [],
   "source": [
    "#API to fetch the dataset from kaggle\n",
    "! kaggle datasets download -d kazanova/sentiment140\n"
   ]
  },
  {
   "cell_type": "code",
   "execution_count": null,
   "metadata": {
    "colab": {
     "base_uri": "https://localhost:8080/"
    },
    "executionInfo": {
     "elapsed": 5536,
     "status": "ok",
     "timestamp": 1733823319503,
     "user": {
      "displayName": "Mohamed Ibrahim",
      "userId": "02825022487710848818"
     },
     "user_tz": -120
    },
    "id": "z0v8UdT_6TjF",
    "outputId": "ab1dc96e-f28f-4448-dbdb-9aa48bdd0e19"
   },
   "outputs": [],
   "source": [
    "from zipfile import ZipFile\n",
    "\n",
    "dataset = r\"D:\\study\\.vscode\\NLP\\project\\sentiment140.zip\"\n",
    "\n",
    "with ZipFile(dataset, \"r\") as zip:\n",
    "    zip.extractall()\n",
    "    print(\"The dataset is extracted\")"
   ]
  },
  {
   "cell_type": "code",
   "execution_count": 50,
   "metadata": {
    "executionInfo": {
     "elapsed": 3,
     "status": "ok",
     "timestamp": 1733823319503,
     "user": {
      "displayName": "Mohamed Ibrahim",
      "userId": "02825022487710848818"
     },
     "user_tz": -120
    },
    "id": "rnva8z5Z9LeM"
   },
   "outputs": [],
   "source": [
    "import pandas as pd\n",
    "import numpy as np\n",
    "import re\n",
    "import nltk\n",
    "from nltk.corpus import stopwords\n",
    "from nltk.tokenize import word_tokenize\n",
    "from nltk.stem.porter import PorterStemmer\n",
    "from nltk.stem import WordNetLemmatizer\n",
    "from sklearn.feature_extraction.text import TfidfVectorizer\n",
    "from sklearn.model_selection import train_test_split\n",
    "from sklearn.linear_model import LogisticRegression\n",
    "from sklearn.metrics import accuracy_score, confusion_matrix, classification_report\n",
    "import seaborn as sns\n",
    "from sklearn.metrics import confusion_matrix\n",
    "import matplotlib.pyplot as plt"
   ]
  },
  {
   "cell_type": "code",
   "execution_count": null,
   "metadata": {
    "colab": {
     "base_uri": "https://localhost:8080/"
    },
    "executionInfo": {
     "elapsed": 3,
     "status": "ok",
     "timestamp": 1733823319503,
     "user": {
      "displayName": "Mohamed Ibrahim",
      "userId": "02825022487710848818"
     },
     "user_tz": -120
    },
    "id": "8imxQwEW_bg7",
    "outputId": "3f9e6d25-ebfd-4046-a356-af6f346bd746"
   },
   "outputs": [],
   "source": [
    "nltk.download(\"stopwords\")\n",
    "nltk.download(\"punkt_tab\")\n",
    "nltk.download(\"wordnet\")"
   ]
  },
  {
   "cell_type": "code",
   "execution_count": null,
   "metadata": {
    "colab": {
     "base_uri": "https://localhost:8080/",
     "height": 206
    },
    "executionInfo": {
     "elapsed": 14273,
     "status": "ok",
     "timestamp": 1733823333774,
     "user": {
      "displayName": "Mohamed Ibrahim",
      "userId": "02825022487710848818"
     },
     "user_tz": -120
    },
    "id": "KwFq_YAs_hKx",
    "outputId": "1c2ef04b-7f7e-4617-b670-7d926f5bce09"
   },
   "outputs": [],
   "source": [
    "column_names = [\"target\", \"id\", \"date\", \"flag\", \"user\", \"text\"]\n",
    "data = pd.read_csv(\n",
    "    r\"D:\\study\\.vscode\\NLP\\project\\training.1600000.processed.noemoticon.csv\",\n",
    "    names=column_names,\n",
    "    encoding=\"ISO-8859-1\",\n",
    ")\n",
    "data.head()"
   ]
  },
  {
   "cell_type": "code",
   "execution_count": null,
   "metadata": {
    "colab": {
     "base_uri": "https://localhost:8080/",
     "height": 206
    },
    "executionInfo": {
     "elapsed": 257,
     "status": "ok",
     "timestamp": 1733823334027,
     "user": {
      "displayName": "Mohamed Ibrahim",
      "userId": "02825022487710848818"
     },
     "user_tz": -120
    },
    "id": "SxVGAN2j4MHH",
    "outputId": "2b81e407-226b-4a75-848b-99839b37a54c"
   },
   "outputs": [],
   "source": [
    "data = data.drop([\"id\", \"date\", \"flag\", \"user\"], axis=1)\n",
    "data.head()"
   ]
  },
  {
   "cell_type": "code",
   "execution_count": null,
   "metadata": {
    "colab": {
     "base_uri": "https://localhost:8080/"
    },
    "executionInfo": {
     "elapsed": 4,
     "status": "ok",
     "timestamp": 1733823334027,
     "user": {
      "displayName": "Mohamed Ibrahim",
      "userId": "02825022487710848818"
     },
     "user_tz": -120
    },
    "id": "ZSJ5ah6VAQOj",
    "outputId": "30cf011f-ff24-4608-baaa-0d0b8d736592"
   },
   "outputs": [],
   "source": [
    "data[\"target\"].unique()  # negative---> 0 , positive ---> 4"
   ]
  },
  {
   "cell_type": "code",
   "execution_count": null,
   "metadata": {
    "colab": {
     "base_uri": "https://localhost:8080/"
    },
    "executionInfo": {
     "elapsed": 3,
     "status": "ok",
     "timestamp": 1733823334027,
     "user": {
      "displayName": "Mohamed Ibrahim",
      "userId": "02825022487710848818"
     },
     "user_tz": -120
    },
    "id": "iXsQKyXjCvQX",
    "outputId": "40693bc8-5ea7-419e-d3f6-161d912f90f7"
   },
   "outputs": [],
   "source": [
    "data[\"target\"] = data[\"target\"].replace(4, 1)\n",
    "data[\"target\"].unique()"
   ]
  },
  {
   "cell_type": "code",
   "execution_count": null,
   "metadata": {
    "colab": {
     "base_uri": "https://localhost:8080/"
    },
    "executionInfo": {
     "elapsed": 256,
     "status": "ok",
     "timestamp": 1733823334282,
     "user": {
      "displayName": "Mohamed Ibrahim",
      "userId": "02825022487710848818"
     },
     "user_tz": -120
    },
    "id": "RJca9F2NEt2o",
    "outputId": "2fd0dad4-4be1-41d5-a20e-59b9b0dcf156"
   },
   "outputs": [],
   "source": [
    "print(data[\"target\"].value_counts())"
   ]
  },
  {
   "cell_type": "code",
   "execution_count": null,
   "metadata": {
    "colab": {
     "base_uri": "https://localhost:8080/"
    },
    "executionInfo": {
     "elapsed": 1089,
     "status": "ok",
     "timestamp": 1733823335369,
     "user": {
      "displayName": "Mohamed Ibrahim",
      "userId": "02825022487710848818"
     },
     "user_tz": -120
    },
    "id": "U2szSf3hC8ud",
    "outputId": "76e8e527-9073-4f96-8128-e55da7f3931e"
   },
   "outputs": [],
   "source": [
    "sample_size_per_class = 250000\n",
    "positive_samples = data[data[\"target\"] == 1].sample(\n",
    "    n=sample_size_per_class, random_state=42\n",
    ")\n",
    "negative_samples = data[data[\"target\"] == 0].sample(\n",
    "    n=sample_size_per_class, random_state=42\n",
    ")\n",
    "balanced_data = pd.concat([positive_samples, negative_samples])\n",
    "print(balanced_data[\"target\"].value_counts())"
   ]
  },
  {
   "cell_type": "code",
   "execution_count": null,
   "metadata": {
    "colab": {
     "base_uri": "https://localhost:8080/",
     "height": 206
    },
    "executionInfo": {
     "elapsed": 5,
     "status": "ok",
     "timestamp": 1733823335369,
     "user": {
      "displayName": "Mohamed Ibrahim",
      "userId": "02825022487710848818"
     },
     "user_tz": -120
    },
    "id": "KL81nfUf_6yY",
    "outputId": "2e3fcf2d-e82a-4e08-bcfd-1b08f90e8676"
   },
   "outputs": [],
   "source": [
    "balanced_data.head()"
   ]
  },
  {
   "cell_type": "markdown",
   "id": "a36c53b1",
   "metadata": {},
   "source": [
    "## Data Preprocessing\n",
    "\n",
    "Clean the text data by removing unnecessary characters, stop words, and stemming/lemmatizing the words."
   ]
  },
  {
   "cell_type": "code",
   "execution_count": null,
   "metadata": {
    "colab": {
     "base_uri": "https://localhost:8080/",
     "height": 206
    },
    "executionInfo": {
     "elapsed": 1013081,
     "status": "ok",
     "timestamp": 1733824348446,
     "user": {
      "displayName": "Mohamed Ibrahim",
      "userId": "02825022487710848818"
     },
     "user_tz": -120
    },
    "id": "EEBv36y9IXq-",
    "outputId": "fb987510-04f4-4e38-d0c9-6903c19c0da4"
   },
   "outputs": [],
   "source": [
    "def process_text(content):\n",
    "    content = re.sub(r\"http\\S+\", \"\", content)\n",
    "    content = re.sub(r\"@\\w+\", \"\", content)\n",
    "    content = re.sub(r\"#\\w+\", \"\", content)\n",
    "    content = re.sub(\n",
    "        r\"\\b(don't|didn't|isn't|aren't|wasn't|weren't|haven't|hasn't|hadn't|won't|wouldn't|shouldn't|cannot|can't|not)\\b\",\n",
    "        lambda x: x.group(0).replace(\"'\", \"\"),\n",
    "        content,\n",
    "    )\n",
    "    # tokenization\n",
    "    tokens = word_tokenize(content)\n",
    "    tokens = [token for token in tokens if token.isalpha()]\n",
    "    tokens = [token.lower() for token in tokens]\n",
    "    # lemmatizer\n",
    "    lemmatizer = WordNetLemmatizer()\n",
    "    tokens = [\n",
    "        lemmatizer.lemmatize(word)\n",
    "        for word in tokens\n",
    "        if word not in stopwords.words(\"english\")\n",
    "    ]\n",
    "    # stemming\n",
    "    porter_stemmer = PorterStemmer()\n",
    "    tokens = [porter_stemmer.stem(word) for word in tokens]\n",
    "    content = \" \".join(tokens)\n",
    "    return content\n",
    "\n",
    "\n",
    "balanced_data[\"text\"] = balanced_data[\"text\"].apply(process_text)\n",
    "balanced_data.head()"
   ]
  },
  {
   "cell_type": "markdown",
   "id": "fbbd6403",
   "metadata": {},
   "source": [
    "## Feature Extraction\n",
    "\n",
    "Transform the cleaned text data into numerical representations using TF-IDF."
   ]
  },
  {
   "cell_type": "code",
   "execution_count": null,
   "metadata": {
    "colab": {
     "base_uri": "https://localhost:8080/"
    },
    "executionInfo": {
     "elapsed": 7,
     "status": "ok",
     "timestamp": 1733824348446,
     "user": {
      "displayName": "Mohamed Ibrahim",
      "userId": "02825022487710848818"
     },
     "user_tz": -120
    },
    "id": "KHKXHMAALBfs",
    "outputId": "f66d879e-bb43-478a-b436-352067d7c58d"
   },
   "outputs": [],
   "source": [
    "X = balanced_data[\"text\"].values\n",
    "Y = balanced_data[\"target\"].values\n",
    "X"
   ]
  },
  {
   "cell_type": "code",
   "execution_count": null,
   "metadata": {
    "colab": {
     "base_uri": "https://localhost:8080/"
    },
    "executionInfo": {
     "elapsed": 5,
     "status": "ok",
     "timestamp": 1733824348446,
     "user": {
      "displayName": "Mohamed Ibrahim",
      "userId": "02825022487710848818"
     },
     "user_tz": -120
    },
    "id": "n95SLZIof8_i",
    "outputId": "2a3994ce-4987-41ac-fcd1-1db97f8be5fb"
   },
   "outputs": [],
   "source": [
    "x_train, x_test, y_train, y_test = train_test_split(X, Y, test_size=0.2, random_state=2)\n",
    "print(x_train.shape, x_test.shape)\n",
    "print(x_train)"
   ]
  },
  {
   "cell_type": "code",
   "execution_count": 29,
   "metadata": {
    "executionInfo": {
     "elapsed": 247,
     "status": "ok",
     "timestamp": 1733824348690,
     "user": {
      "displayName": "Mohamed Ibrahim",
      "userId": "02825022487710848818"
     },
     "user_tz": -120
    },
    "id": "DahMJnUhitQb"
   },
   "outputs": [],
   "source": [
    "vectorizer = TfidfVectorizer()"
   ]
  },
  {
   "cell_type": "code",
   "execution_count": null,
   "metadata": {
    "colab": {
     "base_uri": "https://localhost:8080/"
    },
    "executionInfo": {
     "elapsed": 5151,
     "status": "ok",
     "timestamp": 1733824353840,
     "user": {
      "displayName": "Mohamed Ibrahim",
      "userId": "02825022487710848818"
     },
     "user_tz": -120
    },
    "id": "3vMp_EUPgAm-",
    "outputId": "ff1c61a3-1963-45fa-865d-03c7419333ca"
   },
   "outputs": [],
   "source": [
    "x_train = vectorizer.fit_transform(x_train)\n",
    "x_test = vectorizer.transform(x_test)\n",
    "print(x_train)\n",
    "print(x_test)"
   ]
  },
  {
   "cell_type": "markdown",
   "id": "826bb053",
   "metadata": {},
   "source": [
    "## Model Training\n",
    "\n",
    "Train a Logistic Regression model on the extracted features."
   ]
  },
  {
   "cell_type": "code",
   "execution_count": null,
   "metadata": {
    "colab": {
     "base_uri": "https://localhost:8080/",
     "height": 80
    },
    "executionInfo": {
     "elapsed": 4038,
     "status": "ok",
     "timestamp": 1733824357876,
     "user": {
      "displayName": "Mohamed Ibrahim",
      "userId": "02825022487710848818"
     },
     "user_tz": -120
    },
    "id": "ZGj7TH1wi7_p",
    "outputId": "5e758976-710f-4be2-c40e-13d99c33861a"
   },
   "outputs": [],
   "source": [
    "model = LogisticRegression(max_iter=1500)\n",
    "model.fit(x_train, y_train)"
   ]
  },
  {
   "cell_type": "code",
   "execution_count": null,
   "metadata": {
    "colab": {
     "base_uri": "https://localhost:8080/"
    },
    "executionInfo": {
     "elapsed": 4,
     "status": "ok",
     "timestamp": 1733824357876,
     "user": {
      "displayName": "Mohamed Ibrahim",
      "userId": "02825022487710848818"
     },
     "user_tz": -120
    },
    "id": "Vmm1LWJCk-z6",
    "outputId": "59041a95-33ab-4633-d825-c7e477149ccb"
   },
   "outputs": [],
   "source": [
    "x_train_prediction = model.predict(x_train)\n",
    "training_data_accuracy = accuracy_score(y_train, x_train_prediction)\n",
    "print(\"Accuracy on training data:\", training_data_accuracy)"
   ]
  },
  {
   "cell_type": "code",
   "execution_count": null,
   "metadata": {
    "colab": {
     "base_uri": "https://localhost:8080/"
    },
    "executionInfo": {
     "elapsed": 3,
     "status": "ok",
     "timestamp": 1733824357876,
     "user": {
      "displayName": "Mohamed Ibrahim",
      "userId": "02825022487710848818"
     },
     "user_tz": -120
    },
    "id": "r0S5hBKxlSNN",
    "outputId": "e8181399-07c2-4a75-a167-8896db34938c"
   },
   "outputs": [],
   "source": [
    "x_test_prediction = model.predict(x_test)\n",
    "test_data_accuracy = accuracy_score(y_test, x_test_prediction)\n",
    "print(\"Accuracy on test data:\", test_data_accuracy)"
   ]
  },
  {
   "cell_type": "code",
   "execution_count": null,
   "metadata": {
    "colab": {
     "base_uri": "https://localhost:8080/"
    },
    "executionInfo": {
     "elapsed": 255,
     "status": "ok",
     "timestamp": 1733824358129,
     "user": {
      "displayName": "Mohamed Ibrahim",
      "userId": "02825022487710848818"
     },
     "user_tz": -120
    },
    "id": "nEM2_SuAmXhF",
    "outputId": "5fa6b5bc-79dc-46fc-b33a-3d209defb88f"
   },
   "outputs": [],
   "source": [
    "y_pred = model.predict(x_test)\n",
    "print(\"Classification Report:\")\n",
    "print(classification_report(y_test, y_pred))"
   ]
  },
  {
   "cell_type": "markdown",
   "id": "63dfb3a2",
   "metadata": {},
   "source": [
    "### Sentiment Analysis Code \n",
    "\n",
    "This code performs sentiment analysis on a user-provided comment:\n",
    "\n",
    "**Example Usage**:\n",
    "- Input: \"This product is amazing!\"\n",
    "- Output: \"The predicted sentiment is: Positive\"\n"
   ]
  },
  {
   "cell_type": "code",
   "execution_count": null,
   "metadata": {
    "colab": {
     "base_uri": "https://localhost:8080/"
    },
    "executionInfo": {
     "elapsed": 3622,
     "status": "ok",
     "timestamp": 1733824393205,
     "user": {
      "displayName": "Mohamed Ibrahim",
      "userId": "02825022487710848818"
     },
     "user_tz": -120
    },
    "id": "WW_RvstCHhF3",
    "outputId": "56bdaca6-f1e6-4376-8281-0fa412c15c01"
   },
   "outputs": [],
   "source": [
    "user_comment = input(\"Enter a comment to analyze sentiment: \")\n",
    "predicted_sentiment = process_text(user_comment)\n",
    "# Vectorize the comment\n",
    "comment_vector = vectorizer.transform([predicted_sentiment])\n",
    "# Predict sentiment\n",
    "prediction = model.predict(comment_vector)\n",
    "sentiment = \"Positive\" if prediction[0] == 1 else \"Negative\"\n",
    "print(f\"The predicted sentiment is: {sentiment}\")"
   ]
  },
  {
   "cell_type": "markdown",
   "id": "5ab664e3",
   "metadata": {},
   "source": [
    "## Evaluation\n",
    "\n",
    "Evaluate the model's performance using confusion matrix."
   ]
  },
  {
   "cell_type": "code",
   "execution_count": null,
   "id": "fc623b01",
   "metadata": {},
   "outputs": [],
   "source": [
    "# Example of Class Distribution Visualization\n",
    "\n",
    "# Plot class distribution\n",
    "data[\"target\"].value_counts().plot(\n",
    "    kind=\"bar\", title=\"Class Distribution\", color=[\"red\", \"blue\"]\n",
    ")\n",
    "plt.xticks(ticks=[0, 1], labels=[\"Negative\", \"Positive\"], rotation=0)\n",
    "plt.xlabel(\"Sentiment\")\n",
    "plt.ylabel(\"Count\")\n",
    "plt.show()"
   ]
  },
  {
   "cell_type": "code",
   "execution_count": null,
   "id": "43218ac4",
   "metadata": {},
   "outputs": [],
   "source": [
    "# Visualizing the Confusion Matrix\n",
    "\n",
    "cm = confusion_matrix(y_test, y_pred)\n",
    "\n",
    "# Plot heatmap\n",
    "plt.figure(figsize=(8, 6))\n",
    "sns.heatmap(\n",
    "    cm,\n",
    "    annot=True,\n",
    "    fmt=\"d\",\n",
    "    cmap=\"Blues\",\n",
    "    xticklabels=[\"Negative\", \"Positive\"],\n",
    "    yticklabels=[\"Negative\", \"Positive\"],\n",
    ")\n",
    "plt.xlabel(\"Predicted\")\n",
    "plt.ylabel(\"Actual\")\n",
    "plt.title(\"Confusion Matrix\")\n",
    "plt.show()"
   ]
  }
 ],
 "metadata": {
  "colab": {
   "provenance": []
  },
  "kernelspec": {
   "display_name": "Python 3",
   "name": "python3"
  },
  "language_info": {
   "codemirror_mode": {
    "name": "ipython",
    "version": 3
   },
   "file_extension": ".py",
   "mimetype": "text/x-python",
   "name": "python",
   "nbconvert_exporter": "python",
   "pygments_lexer": "ipython3",
   "version": "3.12.8"
  }
 },
 "nbformat": 4,
 "nbformat_minor": 0
}
